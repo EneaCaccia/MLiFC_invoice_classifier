{
 "cells": [
  {
   "cell_type": "markdown",
   "metadata": {
    "colab_type": "text",
    "id": "gUH91JWlJAQX"
   },
   "source": [
    "# Invoice reading NLP system\n",
    "Remember this image? IT IS BACK!!!\n",
    "![System image](https://storage.googleapis.com/aibootcamp/general_assets/ml_system_architecture.png)\n",
    "\n",
    "\n",
    "This week is all about system building. Because hardly ever does a ML system stand alone. Your success in building a system for Ortec Finance depends as much on what is around your neural net as it depends on the neural net itself. This baseline is my approach to the problem. Much in this notebook was hacked together so I am sure you can improve on many points. Perhaps you even come up with a completely different approach.\n",
    "\n",
    "## The approach, character wise classification:\n",
    "The goal of the task is to extract information from the invoice. The invoice has been run through optical character recognition (OCR). OCR turns PDFs into texts but often messes up the order and confuses come characters. **To extract information from this text, we classify each character by category**. \n",
    "\n",
    "Take an example, if we just wanted to get the amount we would classify the characters like this:\n",
    "\n",
    "|T|O|T|A|L|:| |€| |4|3|6|.|0|0|\n",
    "|-|-|-|-|-|-|-|-|-|-|-|-|-|-|-|\n",
    "|0|0|0|0|0|0|0|1|1|1|1|1|1|1|1|\n",
    "\n",
    "We classify our text into 6 classes here:\n",
    "\n",
    "Ignore:           0\n",
    "Sender Name:      1 \n",
    "Sender KVK:       2 \n",
    "Sender IBAN:      3 \n",
    "Invoice Reference:4\n",
    "Total:            5\n",
    "\n",
    "These are the classes that the training data generator tags. But the class of a character does not only depend on the character. It depends on its surroundings as well. To train our model, we create substrings of our invoice that include a certain amount of preceeding and succeeding characters. The amount of preceding and succeeding characters is defined in the `PADDING` global variable. \n",
    "\n",
    "If for example we wanted to classify the character '€' from the example above and had `PADDING = 3` we would feed\n",
    "'L: € 43' into our network. You can see how the amount of padding has a great influence on the performance of our system.\n",
    "\n",
    "## Post processing:\n",
    "A significant part of model performance stems from what is done with the outputs of the neural net. This approach groups predictions to prediction sequences and only keeps predictions in which 5 consecutive characters were grouped into the same category. An approach to try would be to allow sequences to be interrupted by one character. Another nice add on would be to rank predicted sequences by the total confidence the neural network has in the sequence. \n",
    "\n",
    "## Some tips:\n",
    "For this assignment you can dive pretty deep into software development. \n",
    "You might find these jupyter tricks helpful: https://www.dataquest.io/blog/jupyter-notebook-tips-tricks-shortcuts/\n",
    "\n",
    "Especially debugging with `pdb` really makes things easier: https://docs.python.org/3.5/library/pdb.html#debugger-commands\n",
    "\n",
    "Basically, if anything crashes, you can start a new cell and enter `%debug`. You then come to a command line in which you can look around what happened at the crash.\n",
    "The debugger has some special commands. For example `p my_var` prints out a variable. This also works for other python operations, e.g. `p len(my_list)`.\n",
    "\n",
    "Good luck with building a great system!"
   ]
  },
  {
   "cell_type": "code",
   "execution_count": 0,
   "metadata": {
    "colab": {
     "autoexec": {
      "startup": false,
      "wait_interval": 0
     }
    },
    "colab_type": "code",
    "id": "vPwoeWxK6D15"
   },
   "outputs": [],
   "source": []
  },
  {
   "cell_type": "code",
   "execution_count": 1,
   "metadata": {
    "colab": {
     "autoexec": {
      "startup": false,
      "wait_interval": 0
     },
     "base_uri": "https://localhost:8080/",
     "height": 219,
     "output_extras": [
      {
       "item_id": 2
      }
     ]
    },
    "colab_type": "code",
    "executionInfo": {
     "elapsed": 1520,
     "status": "ok",
     "timestamp": 1521101941642,
     "user": {
      "displayName": "rik",
      "photoUrl": "//lh6.googleusercontent.com/-ZGIi-vN4KMU/AAAAAAAAAAI/AAAAAAAAAFk/Ki-nNio6VVM/s50-c-k-no/photo.jpg",
      "userId": "113719912521762461555"
     },
     "user_tz": -60
    },
    "id": "J_mZzOVTJT6D",
    "outputId": "ea9992be-fd1c-4035-bd81-4a792c1837b5"
   },
   "outputs": [],
   "source": [
    "# Setup \n",
    "# !wget -nc https://storage.googleapis.com/aibootcamp/data/ortec_templates.zip"
   ]
  },
  {
   "cell_type": "code",
   "execution_count": 2,
   "metadata": {
    "colab": {
     "autoexec": {
      "startup": false,
      "wait_interval": 0
     }
    },
    "colab_type": "code",
    "id": "qXnlL2boJjII"
   },
   "outputs": [],
   "source": [
    "#  !unzip - ortec_templates.zip"
   ]
  },
  {
   "cell_type": "code",
   "execution_count": 3,
   "metadata": {
    "colab": {
     "autoexec": {
      "startup": false,
      "wait_interval": 0
     },
     "base_uri": "https://localhost:8080/",
     "height": 54,
     "output_extras": [
      {
       "item_id": 1
      }
     ]
    },
    "colab_type": "code",
    "executionInfo": {
     "elapsed": 1268,
     "status": "ok",
     "timestamp": 1521101962838,
     "user": {
      "displayName": "rik",
      "photoUrl": "//lh6.googleusercontent.com/-ZGIi-vN4KMU/AAAAAAAAAAI/AAAAAAAAAFk/Ki-nNio6VVM/s50-c-k-no/photo.jpg",
      "userId": "113719912521762461555"
     },
     "user_tz": -60
    },
    "id": "_DnStomIJjRk",
    "outputId": "fdad2f50-c4af-4bf1-c124-50f1f702f204"
   },
   "outputs": [
    {
     "name": "stdout",
     "output_type": "stream",
     "text": [
      "iban_noisy_100.csv\t\t\t   README.md\r\n",
      "Jannes_Baseline_Invoices_ToFromDisk.ipynb  templates\r\n",
      "Jannes_Baseline_Ortec.ipynb\t\t   train\r\n",
      "LICENSE\t\t\t\t\t   Wk6_Ortec_IBAN_generation.ipynb\r\n"
     ]
    }
   ],
   "source": [
    "!ls"
   ]
  },
  {
   "cell_type": "code",
   "execution_count": 1,
   "metadata": {
    "colab": {
     "autoexec": {
      "startup": false,
      "wait_interval": 0
     },
     "base_uri": "https://localhost:8080/",
     "height": 2083,
     "output_extras": [
      {
       "item_id": 1
      }
     ]
    },
    "colab_type": "code",
    "executionInfo": {
     "elapsed": 1271,
     "status": "ok",
     "timestamp": 1521101970669,
     "user": {
      "displayName": "rik",
      "photoUrl": "//lh6.googleusercontent.com/-ZGIi-vN4KMU/AAAAAAAAAAI/AAAAAAAAAFk/Ki-nNio6VVM/s50-c-k-no/photo.jpg",
      "userId": "113719912521762461555"
     },
     "user_tz": -60
    },
    "id": "vOyKxSEhdcy4",
    "outputId": "23dcfb69-2679-4c22-ca33-5a50519a9674"
   },
   "outputs": [
    {
     "name": "stdout",
     "output_type": "stream",
     "text": [
      "{'/Title': IndirectObject(49, 0), '/Author': IndirectObject(51, 0), '/Subject': IndirectObject(52, 0), '/Producer': IndirectObject(50, 0), '/Creator': IndirectObject(53, 0), '/CreationDate': IndirectObject(54, 0), '/ModDate': IndirectObject(54, 0), '/Keywords': IndirectObject(55, 0), '/AAPL:Keywords': IndirectObject(56, 0)}\r\n",
      "\r\n",
      "            <SENDER_NAME>\r\n",
      "V.O.F\r\n",
      "                                        Specialist in tegelvlakke cementdekvloeren\r\n",
      "                 Fam de Rochebrune\r\n",
      "              Vaarsdrift 3\r\n",
      "         Juinen\r\n",
      "              Papendrecht\r\n",
      "02-06-2017     factuur 17068\r\n",
      "    -            Geachte heer,\r\n",
      "                      Aan u geleverd cementdekvloer\r\n",
      "45m27cmvezel bewapend\r\n",
      "Bedrag excl BTW\r\n",
      "900,00\r\n",
      "!\r\n",
      " B.T.W 21%\r\n",
      "189,00\r\n",
      "!\r\n",
      " Totaal door u te voldoen\r\n",
      "1.089,00\r\n",
      "!\r\n",
      "                                                                    Betalingen via IBAN.<IBAN>\r\n",
      "binnen 14 dagen\r\n",
      " na datum factuur\r\n",
      "     Dennehof 23\r\n",
      " 3355RJ Papendrecht\r\n",
      " Mob.tel.0\r\n",
      "6-53190711 IBAN.43ABNA.042.97.26082\r\n",
      " K.v.K <KVKNR>\r\n",
      "72 BTW .nr 8028.14.694.B01\r\n"
     ]
    }
   ],
   "source": [
    " !cat templates/TEMPLATE_18.txt"
   ]
  },
  {
   "cell_type": "code",
   "execution_count": 2,
   "metadata": {
    "colab": {
     "autoexec": {
      "startup": false,
      "wait_interval": 0
     }
    },
    "colab_type": "code",
    "id": "caddquRKJ2vC"
   },
   "outputs": [],
   "source": [
    "!pip install -q keras"
   ]
  },
  {
   "cell_type": "markdown",
   "metadata": {
    "colab_type": "text",
    "id": "i3EuDqPXJAQZ"
   },
   "source": [
    "## Loading templates"
   ]
  },
  {
   "cell_type": "code",
   "execution_count": 3,
   "metadata": {},
   "outputs": [],
   "source": [
    "%load_ext autoreload\n",
    "%autoreload 2"
   ]
  },
  {
   "cell_type": "code",
   "execution_count": 4,
   "metadata": {
    "colab": {
     "autoexec": {
      "startup": false,
      "wait_interval": 0
     }
    },
    "colab_type": "code",
    "id": "Mq9VfteLJAQZ"
   },
   "outputs": [],
   "source": [
    "# System hyper parameters here\n",
    "\n",
    "# How many characters before and after the main char to feed the NN\n",
    "PADDING = 20 \n",
    "\n",
    "\n",
    "'''\n",
    "Ignore:           0\n",
    "Sender Name:      1 \n",
    "Sender KVK:       2 \n",
    "Sender IBAN:      3 \n",
    "Invoice Reference:4\n",
    "Total:            5\n",
    "'''\n",
    "N_CLASSES = 6"
   ]
  },
  {
   "cell_type": "code",
   "execution_count": 5,
   "metadata": {
    "colab": {
     "autoexec": {
      "startup": false,
      "wait_interval": 0
     },
     "base_uri": "https://localhost:8080/",
     "height": 54,
     "output_extras": [
      {
       "item_id": 1
      }
     ]
    },
    "colab_type": "code",
    "executionInfo": {
     "elapsed": 2119,
     "status": "ok",
     "timestamp": 1521101993685,
     "user": {
      "displayName": "rik",
      "photoUrl": "//lh6.googleusercontent.com/-ZGIi-vN4KMU/AAAAAAAAAAI/AAAAAAAAAFk/Ki-nNio6VVM/s50-c-k-no/photo.jpg",
      "userId": "113719912521762461555"
     },
     "user_tz": -60
    },
    "id": "U80fgzU4JAQg",
    "outputId": "b5fc7289-8107-4d16-b1db-0a921e3fe9e4"
   },
   "outputs": [
    {
     "name": "stderr",
     "output_type": "stream",
     "text": [
      "/home/paperspace/anaconda3/envs/bletchley/lib/python3.6/site-packages/h5py/__init__.py:36: FutureWarning: Conversion of the second argument of issubdtype from `float` to `np.floating` is deprecated. In future, it will be treated as `np.float64 == np.dtype(float).type`.\n",
      "  from ._conv import register_converters as _register_converters\n",
      "Using TensorFlow backend.\n"
     ]
    }
   ],
   "source": [
    "from templates.invoicegen import create_invoice\n",
    "\n",
    "from keras.preprocessing.text import Tokenizer\n",
    "import numpy as np\n",
    "\n",
    "import pandas as pd\n",
    "import glob\n",
    "import uuid\n"
   ]
  },
  {
   "cell_type": "code",
   "execution_count": 6,
   "metadata": {
    "colab": {
     "autoexec": {
      "startup": false,
      "wait_interval": 0
     }
    },
    "colab_type": "code",
    "id": "h8AtNKmOJAQn"
   },
   "outputs": [
    {
     "name": "stdout",
     "output_type": "stream",
     "text": [
      "./templates/TEMPLATE_1.txt\n",
      "./templates/TEMPLATE_10.txt\n",
      "./templates/TEMPLATE_8.txt\n",
      "./templates/TEMPLATE_2.txt\n",
      "./templates/TEMPLATE_9.txt\n",
      "./templates/TEMPLATE_20.txt\n",
      "./templates/TEMPLATE_4.txt\n",
      "./templates/TEMPLATE_18.txt\n",
      "./templates/TEMPLATE_17.txt\n",
      "./templates/TEMPLATE_11.txt\n",
      "./templates/TEMPLATE_5.txt\n",
      "./templates/TEMPLATE_7.txt\n",
      "./templates/TEMPLATE_14.txt\n",
      "./templates/TEMPLATE_13.txt\n",
      "./templates/TEMPLATE_19.txt\n",
      "./templates/TEMPLATE_12.txt\n",
      "./templates/TEMPLATE_3.txt\n",
      "./templates/TEMPLATE_16.txt\n",
      "./templates/TEMPLATE_21.txt\n",
      "./templates/TEMPLATE_6.txt\n",
      "./templates/TEMPLATE_15.txt\n"
     ]
    }
   ],
   "source": [
    "# Create plenty invoices for each template\n",
    "PLENTY = 3\n",
    "\n",
    "invoices = []\n",
    "targets = []\n",
    "truths = []\n",
    "\n",
    "for txtname in glob.glob(\"./templates/TEMPLATE_*.txt\"):\n",
    "    print(txtname)\n",
    "    with open(txtname, \"r\") as content_file:\n",
    "        content = content_file.read()\n",
    "        # Create invoices from template\n",
    "        for i in range(PLENTY):\n",
    "            inv, tar, truth = create_invoice(content)\n",
    "            invoices.append(inv)\n",
    "            targets.append(tar)\n",
    "            truths.append(truth)\n",
    "#"
   ]
  },
  {
   "cell_type": "code",
   "execution_count": 7,
   "metadata": {
    "colab": {
     "autoexec": {
      "startup": false,
      "wait_interval": 0
     },
     "base_uri": "https://localhost:8080/",
     "height": 54,
     "output_extras": [
      {
       "item_id": 1
      }
     ]
    },
    "colab_type": "code",
    "executionInfo": {
     "elapsed": 477,
     "status": "ok",
     "timestamp": 1521102084745,
     "user": {
      "displayName": "rik",
      "photoUrl": "//lh6.googleusercontent.com/-ZGIi-vN4KMU/AAAAAAAAAAI/AAAAAAAAAFk/Ki-nNio6VVM/s50-c-k-no/photo.jpg",
      "userId": "113719912521762461555"
     },
     "user_tz": -60
    },
    "id": "iGv0hcr_UCWw",
    "outputId": "66262798-b488-4fc2-d5b9-b97f676db49a",
    "scrolled": false
   },
   "outputs": [
    {
     "name": "stdout",
     "output_type": "stream",
     "text": [
      "{'/Producer': 'PDFCreator 2.4.0.213', '/CreationDate': \"D:20170321121729+01'00'\", '/ModDate': \"D:20170321121729+01'00'\", '/Title': 'Factuur', '/Author': 'BoekhoudPC', '/Subject': '', '/Keywords': '', '/Creator': 'PDFCreator 2.4.0.213'}\n",
      "\n",
      "Rembrandtstraat 5-i, 3262HN, Oud-Beijerland.\n",
      "\n",
      "Telefoon   : 06-20398799\n",
      "\n",
      "Email       : info@Amazon NL International Holdings B.V..nl\n",
      "\n",
      "Bank ING : NL41RABO0150437878\n",
      "BTW nr              : NL1361.72.738.B01\n",
      "\n",
      "KVK Rotterdam   : 69988978\n",
      "WEBSITE: http://www.Amazon NL International Holdings B.V..nl\n",
      "\n",
      "Factuurdatum:\n",
      "\n",
      "Factuurnummer:\n",
      "21-3-2017\n",
      "\n",
      "20170465\n",
      "Rochebrune, de\n",
      "\n",
      "Vaarsdrift 3\n",
      "\n",
      "1982 KB Juinen\n",
      "0071\n",
      "Debiteurnummer:\n",
      "Artikel\n",
      "AantalEenheidsprijsTotaalbedrag\n",
      "EUR\n",
      "EUR\n",
      "Artikelcode\n",
      "Schuifpui volgens email opdracht 19-12-2016.1,00 4.\n",
      "149,00 4.149,00\n",
      "Overige kozijnen gekoppeld volgens email\n",
      "\n",
      "opdracht 19-12-2016.\n",
      "1,00 6.441,00 6.441,00\n",
      "Rolluik met verbrede geleiders etc. volgens\n",
      "\n",
      "akkoord email 18-1-2017.\n",
      "1,00 1.284,00 1.284,00\n",
      "Arbeid 2,5 uur hulp bij het vernieuwen beslag\n",
      "\n",
      "bestaande schuifpui en het stellen van deze\n",
      "\n",
      "bestaande pui.\n",
      "1,00 127,12 127,13\n",
      "Bijkomend montage materiaal niet\n",
      "\n",
      "opgenomen: Compriband, afpurren\n",
      "\n",
      "gekoppelde pui. (overige beglazingkit en\n",
      "\n",
      "schroeven waren inbegrepen)\n",
      "1,00 29,00 29,00\n",
      "Credit al betaalde deelfactuur 20170449.1,00 -5.800\n",
      ",00 -5.800,00\n",
      "Totaal te betalen\n",
      "+ 6.230,13\n",
      "•Het totaal bedrag binnen 8 dagen overmaken op IBAN:\n",
      " NL41RABO0150437878\n",
      "            onder vermelding van factuurnummer en d\n",
      "ebiteurnummer\n",
      "\n",
      "['564e804d-4ddd-4035-8946-c370a615892f', 'Amazon NL International Holdings B.V.', '69988978', 'NL41RABO0150437878', 'STXPT82', 10372.930607433951]\n"
     ]
    }
   ],
   "source": [
    "print(invoices[3])\n",
    "print(truths[3])"
   ]
  },
  {
   "cell_type": "code",
   "execution_count": 13,
   "metadata": {
    "colab": {
     "autoexec": {
      "startup": false,
      "wait_interval": 0
     }
    },
    "colab_type": "code",
    "id": "5U69d52YJAQr"
   },
   "outputs": [],
   "source": [
    "# save all generated inv/tar combos to disk\n",
    "# one combo per file\n",
    "train_dir = \"train/\"\n",
    "! mkdir -p {train_dir}\n",
    "\n",
    "for i in range(len(invoices)):\n",
    "  inv = invoices[i]\n",
    "  tar = targets[i]\n",
    "  inv_tar = pd.DataFrame(columns = ['invoice', 'target'])\n",
    "  inv_tar['invoice'] = inv\n",
    "  inv_tar['target']  = tar\n",
    "  fname = train_dir + str(uuid.uuid4()) + '.csv'\n",
    "  inv_tar.to_csv(fname, index=False)\n",
    "  \n",
    "#\n"
   ]
  },
  {
   "cell_type": "code",
   "execution_count": null,
   "metadata": {
    "colab": {
     "autoexec": {
      "startup": false,
      "wait_interval": 0
     },
     "base_uri": "https://localhost:8080/",
     "height": 54,
     "output_extras": [
      {
       "item_id": 1
      }
     ]
    },
    "colab_type": "code",
    "executionInfo": {
     "elapsed": 485,
     "status": "ok",
     "timestamp": 1521105597785,
     "user": {
      "displayName": "rik",
      "photoUrl": "//lh6.googleusercontent.com/-ZGIi-vN4KMU/AAAAAAAAAAI/AAAAAAAAAFk/Ki-nNio6VVM/s50-c-k-no/photo.jpg",
      "userId": "113719912521762461555"
     },
     "user_tz": -60
    },
    "id": "LFZ1GA8o4zUS",
    "outputId": "c7581359-580b-4f3c-c3b6-a8ad127a53d9"
   },
   "outputs": [],
   "source": []
  },
  {
   "cell_type": "code",
   "execution_count": 14,
   "metadata": {
    "colab": {
     "autoexec": {
      "startup": false,
      "wait_interval": 0
     },
     "base_uri": "https://localhost:8080/",
     "height": 70,
     "output_extras": [
      {
       "item_id": 2
      }
     ]
    },
    "colab_type": "code",
    "executionInfo": {
     "elapsed": 2251,
     "status": "ok",
     "timestamp": 1521102374061,
     "user": {
      "displayName": "rik",
      "photoUrl": "//lh6.googleusercontent.com/-ZGIi-vN4KMU/AAAAAAAAAAI/AAAAAAAAAFk/Ki-nNio6VVM/s50-c-k-no/photo.jpg",
      "userId": "113719912521762461555"
     },
     "user_tz": -60
    },
    "id": "h2TNqV5HM8gg",
    "outputId": "c91e9d04-02b4-44d1-b8a1-18ca508283b8"
   },
   "outputs": [
    {
     "name": "stdout",
     "output_type": "stream",
     "text": [
      "63\n",
      "328K\ttrain/\n"
     ]
    }
   ],
   "source": [
    "# ! rm {train_dir}*csv\n",
    "! ls {train_dir}*csv | wc -l\n",
    "! du -sh {train_dir}"
   ]
  },
  {
   "cell_type": "code",
   "execution_count": 0,
   "metadata": {
    "colab": {
     "autoexec": {
      "startup": false,
      "wait_interval": 0
     }
    },
    "colab_type": "code",
    "id": "KhQJwI-ww3DH"
   },
   "outputs": [],
   "source": []
  },
  {
   "cell_type": "code",
   "execution_count": 15,
   "metadata": {
    "colab": {
     "autoexec": {
      "startup": false,
      "wait_interval": 0
     }
    },
    "colab_type": "code",
    "id": "lEGW0NoBW-xk"
   },
   "outputs": [],
   "source": [
    "# example code to read in invoices/targets from disk:\n",
    "# one inv/tar combo in each file\n",
    "\n",
    "for file in glob.glob(\"{train_dir}*.csv\"):\n",
    "  mysample = pd.read_csv(file)\n",
    "  inv = mysample.loc[:,'invoice']\n",
    "  tar = mysample.loc[:,'target']\n"
   ]
  },
  {
   "cell_type": "markdown",
   "metadata": {
    "colab_type": "text",
    "id": "Xwm5ToJGJAQv"
   },
   "source": [
    "## Generate substring"
   ]
  },
  {
   "cell_type": "code",
   "execution_count": 241,
   "metadata": {
    "colab": {
     "autoexec": {
      "startup": false,
      "wait_interval": 0
     }
    },
    "colab_type": "code",
    "id": "Lv7HCR6ZJAQv"
   },
   "outputs": [],
   "source": [
    "# Create our tokenizer\n",
    "# We will tokenize on character level!\n",
    "# We will NOT remove any characters\n",
    "tokenizer = Tokenizer(num_words=96, char_level=True, filters=None, lower=True)  # lower = False , True by default\n",
    "tokenizer.fit_on_texts(invoices)"
   ]
  },
  {
   "cell_type": "code",
   "execution_count": 242,
   "metadata": {
    "colab": {
     "autoexec": {
      "startup": false,
      "wait_interval": 0
     }
    },
    "colab_type": "code",
    "id": "fardNlOkJAQz"
   },
   "outputs": [],
   "source": [
    "def gen_sub(inv,tar,pad, m = None):\n",
    "    '''\n",
    "    Generates a substring from invoice inv and target list tar \n",
    "    using the character at index m as a midpoint.\n",
    "    \n",
    "    Params:\n",
    "    inv - an invoice string\n",
    "    tar - a target list specifying the type of each item\n",
    "    pad - the amount of padding to attach before and after the focus character\n",
    "    \n",
    "    Returns:\n",
    "    sub - a string with pad characters, the focus character, pad characters\n",
    "    '''\n",
    "    # If no focus character index is set, choose at random\n",
    "    if m == None:\n",
    "        m = np.random.randint(0,len(inv))\n",
    "        \n",
    "    l = m - pad # define the lower bound of our substring\n",
    "    h = m + pad + 1 # define the upper (high) of our substring\n",
    "\n",
    "    # Sometimes, our lower bound could be below zero\n",
    "    # In this case we attach the remaining characters from the back of the string\n",
    "    if l < 0:\n",
    "        # Get the characters from the back of the file\n",
    "        s1 = inv[l:None]\n",
    "        \n",
    "        # Edge case: Sample size larger than string\n",
    "        # Our upper bound might be higher than the lenth of the text\n",
    "        # In that case we start from the front again\n",
    "        if h >= len(inv): \n",
    "            # How many characters do we need from the front\n",
    "            overlap = h - len(inv)\n",
    "            # The string is the entire invoice + some chars from the front\n",
    "            s2 = inv\n",
    "            s_over = inv[None:overlap]\n",
    "            s2 = s2 + s_over\n",
    "        else:\n",
    "            # If we don't need chars from the front \n",
    "            # we can just select to the upper bound\n",
    "            s2 = inv[None:h]\n",
    "            \n",
    "        # Create substring\n",
    "        sub = s1 + s2\n",
    "        # Ensure the substring has the right length\n",
    "        assert(len(sub) == pad*2 +1)\n",
    "        return sub, tar[m]\n",
    "    \n",
    "    # Our lower bound might be positive but our upper bound might \n",
    "    # still be above the length of the invoice\n",
    "    elif h >= len(inv):\n",
    "        # Calc how many chars we need from the front\n",
    "        overlap = h - len(inv)\n",
    "        \n",
    "        # Get string from lower bound to end\n",
    "        s1 = inv[l:None]\n",
    "        # Get string from the front of the doc\n",
    "        s2 = inv[None:overlap]\n",
    "        sub = s1 + s2\n",
    "        # Make sure our string has the correct length\n",
    "        assert(len(sub) == pad*2 +1)\n",
    "        return sub, tar[m]\n",
    "    \n",
    "    # Upper and lower bound lie within the length of the invoice\n",
    "    else: \n",
    "        sub = inv[l:h]\n",
    "        assert(len(sub) == pad*2 +1)\n",
    "        return sub, tar[m]"
   ]
  },
  {
   "cell_type": "markdown",
   "metadata": {
    "colab_type": "text",
    "id": "LloL1ejTJAQ5"
   },
   "source": [
    "## Generate dataset for training"
   ]
  },
  {
   "cell_type": "code",
   "execution_count": 243,
   "metadata": {
    "colab": {
     "autoexec": {
      "startup": false,
      "wait_interval": 0
     }
    },
    "colab_type": "code",
    "id": "O1rC068zJAQ5"
   },
   "outputs": [],
   "source": [
    "def gen_dataset(sample_size, n_classes, invoices, targets, tokenizer):\n",
    "    '''\n",
    "    Generate a dataset of inputs and outputs for our neural network\n",
    "    \n",
    "    Params:\n",
    "    sample_size - desired sample size\n",
    "    n_classes - number of classes\n",
    "    invoices - list of invoices to sample from\n",
    "    targets - list of corresponding targets to sample from\n",
    "    tokenizer - a keras tokenizer fit on the invoices\n",
    "    \n",
    "    The function creates balanced samples by randomly sampling untill \n",
    "    an equal amount of samples of all types is created.\n",
    "    \n",
    "    Characters are one hot encoded\n",
    "    \n",
    "    Returns:\n",
    "    x_arr: a numpy array of shape (sample_size, sequence length, number of unique characters)\n",
    "    y_arr: a numpy array of shape (sample_size,)\n",
    "    '''\n",
    "    \n",
    "    # Create a budget\n",
    "    budget = [sample_size / n_classes] * n_classes\n",
    "    \n",
    "    # Setup holding variables\n",
    "    X_train = []\n",
    "    y_train = []\n",
    "\n",
    "    # While there is still a budget left...\n",
    "    while sum(budget) > 0:\n",
    "        # ... get a random invoice and target list\n",
    "        index = np.random.randint(0,len(invoices))\n",
    "        inv = invoices[index]\n",
    "        tar = targets[index]\n",
    "        # ... sample up to 10 items from this invoice \n",
    "        for j in range(10):\n",
    "            # Get an item\n",
    "            x, y = gen_sub(inv,tar,PADDING)\n",
    "            # if we still have a budget for this items target\n",
    "            if budget[y] > 0:\n",
    "                # Tokenize to one hot\n",
    "                xm = tokenizer.texts_to_matrix(x)\n",
    "                # Add data and target\n",
    "                X_train.append(xm)\n",
    "                y_train.append(y)\n",
    "                budget[y] -= 1\n",
    "      \n",
    "    # Create numpy arrays from all data and targets\n",
    "    x_arr = np.array(X_train)\n",
    "    y_arr = np.array(y_train)\n",
    "    return x_arr,y_arr"
   ]
  },
  {
   "cell_type": "code",
   "execution_count": 244,
   "metadata": {
    "colab": {
     "autoexec": {
      "startup": false,
      "wait_interval": 0
     }
    },
    "colab_type": "code",
    "id": "3wj9GoWoc1rL"
   },
   "outputs": [],
   "source": [
    "m=212\n",
    "r=0"
   ]
  },
  {
   "cell_type": "code",
   "execution_count": 245,
   "metadata": {
    "colab": {
     "autoexec": {
      "startup": false,
      "wait_interval": 0
     },
     "base_uri": "https://localhost:8080/",
     "height": 70,
     "output_extras": [
      {
       "item_id": 1
      }
     ]
    },
    "colab_type": "code",
    "executionInfo": {
     "elapsed": 444,
     "status": "ok",
     "timestamp": 1521102435472,
     "user": {
      "displayName": "rik",
      "photoUrl": "//lh6.googleusercontent.com/-ZGIi-vN4KMU/AAAAAAAAAAI/AAAAAAAAAFk/Ki-nNio6VVM/s50-c-k-no/photo.jpg",
      "userId": "113719912521762461555"
     },
     "user_tz": -60
    },
    "id": "KPqhpBvWbSNX",
    "outputId": "c5bf51b3-85d3-4146-fa8c-bd019d1481e4"
   },
   "outputs": [
    {
     "name": "stdout",
     "output_type": "stream",
     "text": [
      "213\n",
      "('Website:\\n\\nFactuur\\n\\n24421148\\n000019986750\\n', 2)\n"
     ]
    }
   ],
   "source": [
    "m += 1\n",
    "mysubstring = gen_sub(invoices[r], targets[r], PADDING, m=m)\n",
    "print(m)\n",
    "print(mysubstring)\n"
   ]
  },
  {
   "cell_type": "code",
   "execution_count": 246,
   "metadata": {
    "colab": {
     "autoexec": {
      "startup": false,
      "wait_interval": 0
     }
    },
    "colab_type": "code",
    "id": "yGA5pV-3JAQ8"
   },
   "outputs": [],
   "source": [
    "# Generate data\n",
    "train_size = 12000\n",
    "val_size = 1200\n",
    "\n",
    "x_tr, y_tr = gen_dataset(train_size, N_CLASSES, invoices, targets, tokenizer)\n",
    "x_val, y_val = gen_dataset(val_size, N_CLASSES, invoices, targets, tokenizer)"
   ]
  },
  {
   "cell_type": "code",
   "execution_count": 247,
   "metadata": {
    "colab": {
     "autoexec": {
      "startup": false,
      "wait_interval": 0
     }
    },
    "colab_type": "code",
    "id": "crz627iyJAQ_"
   },
   "outputs": [
    {
     "name": "stdout",
     "output_type": "stream",
     "text": [
      "(41, 96)\n"
     ]
    }
   ],
   "source": [
    "#a numpy array of shape (sample_size, sequence length, number of unique characters)\n",
    "\n",
    "x_tr.shape \n",
    "\n",
    "(_, input_width, input_depth) = x_tr.shape\n",
    "input_shape = (input_width, input_depth)\n",
    "print(input_shape)"
   ]
  },
  {
   "cell_type": "code",
   "execution_count": null,
   "metadata": {
    "colab": {
     "autoexec": {
      "startup": false,
      "wait_interval": 0
     }
    },
    "colab_type": "code",
    "id": "kGzoLFbHf-kW"
   },
   "outputs": [],
   "source": []
  },
  {
   "cell_type": "markdown",
   "metadata": {
    "colab_type": "text",
    "id": "82CcOTIgJARD"
   },
   "source": [
    "## Model building"
   ]
  },
  {
   "cell_type": "code",
   "execution_count": 248,
   "metadata": {
    "colab": {
     "autoexec": {
      "startup": false,
      "wait_interval": 0
     }
    },
    "colab_type": "code",
    "id": "JJ977SYzJARD"
   },
   "outputs": [],
   "source": [
    "from keras.models import Sequential\n",
    "from keras.layers import SimpleRNN, Dense,Activation, Conv1D, MaxPool1D"
   ]
  },
  {
   "cell_type": "code",
   "execution_count": 249,
   "metadata": {
    "colab": {
     "autoexec": {
      "startup": false,
      "wait_interval": 0
     }
    },
    "colab_type": "code",
    "id": "IFzNMcqSJARG"
   },
   "outputs": [],
   "source": [
    "# A simple model\n",
    "model = Sequential()\n",
    "\n",
    "# The input shape assumes there is 85 possible characters\n",
    "# model.add(Conv1D(32,2,input_shape=(None, 85)))\n",
    "model.add(Conv1D(32,2,input_shape=input_shape))\n",
    "\n",
    "model.add(MaxPool1D(2))\n",
    "model.add(SimpleRNN(10))\n",
    "model.add(Dense(6))\n",
    "model.add(Activation('softmax'))"
   ]
  },
  {
   "cell_type": "code",
   "execution_count": 250,
   "metadata": {
    "colab": {
     "autoexec": {
      "startup": false,
      "wait_interval": 0
     },
     "base_uri": "https://localhost:8080/",
     "height": 318,
     "output_extras": [
      {
       "item_id": 1
      }
     ]
    },
    "colab_type": "code",
    "executionInfo": {
     "elapsed": 451,
     "status": "ok",
     "timestamp": 1521103119414,
     "user": {
      "displayName": "rik",
      "photoUrl": "//lh6.googleusercontent.com/-ZGIi-vN4KMU/AAAAAAAAAAI/AAAAAAAAAFk/Ki-nNio6VVM/s50-c-k-no/photo.jpg",
      "userId": "113719912521762461555"
     },
     "user_tz": -60
    },
    "id": "UNYPtr9zJARJ",
    "outputId": "09af39bc-dc92-4238-845b-eba5afd01cdf"
   },
   "outputs": [
    {
     "name": "stdout",
     "output_type": "stream",
     "text": [
      "_________________________________________________________________\n",
      "Layer (type)                 Output Shape              Param #   \n",
      "=================================================================\n",
      "conv1d_1 (Conv1D)            (None, 40, 32)            6176      \n",
      "_________________________________________________________________\n",
      "max_pooling1d_1 (MaxPooling1 (None, 20, 32)            0         \n",
      "_________________________________________________________________\n",
      "simple_rnn_1 (SimpleRNN)     (None, 10)                430       \n",
      "_________________________________________________________________\n",
      "dense_1 (Dense)              (None, 6)                 66        \n",
      "_________________________________________________________________\n",
      "activation_1 (Activation)    (None, 6)                 0         \n",
      "=================================================================\n",
      "Total params: 6,672\n",
      "Trainable params: 6,672\n",
      "Non-trainable params: 0\n",
      "_________________________________________________________________\n"
     ]
    }
   ],
   "source": [
    "# sparse_categorical_crossentropy is like categorical crossentropy but without converting targets to one hot\n",
    "model.compile(loss='sparse_categorical_crossentropy',optimizer='adam', metrics=['acc'])\n",
    "model.summary()\n"
   ]
  },
  {
   "cell_type": "code",
   "execution_count": null,
   "metadata": {
    "colab": {
     "autoexec": {
      "startup": false,
      "wait_interval": 0
     }
    },
    "colab_type": "code",
    "id": "KL5eEhsvZ-NW"
   },
   "outputs": [],
   "source": [
    "\n"
   ]
  },
  {
   "cell_type": "code",
   "execution_count": null,
   "metadata": {
    "colab": {
     "autoexec": {
      "startup": false,
      "wait_interval": 0
     }
    },
    "colab_type": "code",
    "id": "SsUO4K_NaBq5"
   },
   "outputs": [],
   "source": []
  },
  {
   "cell_type": "code",
   "execution_count": 252,
   "metadata": {
    "colab": {
     "autoexec": {
      "startup": false,
      "wait_interval": 0
     },
     "base_uri": "https://localhost:8080/",
     "height": 269,
     "output_extras": [
      {
       "item_id": 58
      },
      {
       "item_id": 82
      },
      {
       "item_id": 83
      }
     ]
    },
    "colab_type": "code",
    "executionInfo": {
     "elapsed": 20974,
     "status": "ok",
     "timestamp": 1521103141566,
     "user": {
      "displayName": "rik",
      "photoUrl": "//lh6.googleusercontent.com/-ZGIi-vN4KMU/AAAAAAAAAAI/AAAAAAAAAFk/Ki-nNio6VVM/s50-c-k-no/photo.jpg",
      "userId": "113719912521762461555"
     },
     "user_tz": -60
    },
    "id": "p2JL9ObQJARL",
    "outputId": "29d42023-d399-48f1-fbc0-32643902430d"
   },
   "outputs": [
    {
     "name": "stdout",
     "output_type": "stream",
     "text": [
      "Train on 12000 samples, validate on 1200 samples\n",
      "Epoch 1/6\n",
      "12000/12000 [==============================] - 4s 308us/step - loss: 0.2270 - acc: 0.9113 - val_loss: 0.2496 - val_acc: 0.9000\n",
      "Epoch 2/6\n",
      "12000/12000 [==============================] - 4s 305us/step - loss: 0.2037 - acc: 0.9257 - val_loss: 0.2434 - val_acc: 0.9083\n",
      "Epoch 3/6\n",
      "12000/12000 [==============================] - 4s 308us/step - loss: 0.1807 - acc: 0.9370 - val_loss: 0.2054 - val_acc: 0.9242\n",
      "Epoch 4/6\n",
      "12000/12000 [==============================] - 4s 306us/step - loss: 0.1506 - acc: 0.9507 - val_loss: 0.2308 - val_acc: 0.9217\n",
      "Epoch 5/6\n",
      "12000/12000 [==============================] - 4s 307us/step - loss: 0.1237 - acc: 0.9639 - val_loss: 0.1423 - val_acc: 0.9575\n",
      "Epoch 6/6\n",
      "12000/12000 [==============================] - 4s 307us/step - loss: 0.0948 - acc: 0.9760 - val_loss: 0.1118 - val_acc: 0.9708\n"
     ]
    },
    {
     "data": {
      "text/plain": [
       "<keras.callbacks.History at 0x7f28317f5358>"
      ]
     },
     "execution_count": 252,
     "metadata": {},
     "output_type": "execute_result"
    }
   ],
   "source": [
    "model.fit(x_tr,y_tr,batch_size=32,epochs=6,validation_data=(x_val,y_val))"
   ]
  },
  {
   "cell_type": "markdown",
   "metadata": {
    "colab_type": "text",
    "id": "64vCXL2TJARO"
   },
   "source": [
    "## Generate demo invoice"
   ]
  },
  {
   "cell_type": "code",
   "execution_count": 253,
   "metadata": {
    "colab": {
     "autoexec": {
      "startup": false,
      "wait_interval": 0
     }
    },
    "colab_type": "code",
    "id": "VVq9JpSCJARO"
   },
   "outputs": [],
   "source": [
    "'''\n",
    "To make predictions from our model, we need to create \n",
    "sequences around every character from the invoice.\n",
    "\n",
    "We are making predictions for every character based on their context in the invoice\n",
    "'''\n",
    "\n",
    "# Choose a random invoice:\n",
    "index = np.random.randint(0,len(invoices))\n",
    "inv = invoices[index]\n",
    "tar = targets[index]\n",
    "# inv = invoices[0]\n",
    "# tar = targets[0]\n",
    "\n",
    "chars = [] # Holds the individual characters\n",
    "data = [] # Holds the sequences around the characters\n",
    "y_true = [] # Holds the true targets for each character\n",
    "\n",
    "# Loop over characters indices\n",
    "for i in range(len(inv) -1):\n",
    "    # Create sequence around this character\n",
    "    x,y = gen_sub(inv,tar,PADDING,m=i)\n",
    "    # Tokenize the sequence to one hot\n",
    "    xm = tokenizer.texts_to_matrix(x)\n",
    "    # Get the character itself\n",
    "    c = inv[i]\n",
    "    \n",
    "    chars.append(c)\n",
    "    data.append(xm)\n",
    "    y_true.append(y)\n",
    "#\n"
   ]
  },
  {
   "cell_type": "code",
   "execution_count": 340,
   "metadata": {},
   "outputs": [
    {
     "name": "stdout",
     "output_type": "stream",
     "text": [
      "[0. 0. 0. 0. 0. 0. 1. 0. 0. 0. 0. 0. 0. 0. 0. 0. 0. 0. 0. 0. 0. 0. 0. 0.\n",
      " 0. 0. 0. 0. 0. 0. 0. 0. 0. 0. 0. 0. 0. 0. 0. 0. 0. 0. 0. 0. 0. 0. 0. 0.\n",
      " 0. 0. 0. 0. 0. 0. 0. 0. 0. 0. 0. 0. 0. 0. 0. 0. 0. 0. 0. 0. 0. 0. 0. 0.\n",
      " 0. 0. 0. 0. 0. 0. 0. 0. 0. 0. 0. 0. 0. 0. 0. 0. 0. 0. 0. 0. 0. 0. 0. 0.]\n"
     ]
    }
   ],
   "source": [
    "print((data[0][0]))"
   ]
  },
  {
   "cell_type": "code",
   "execution_count": 254,
   "metadata": {
    "colab": {
     "autoexec": {
      "startup": false,
      "wait_interval": 0
     }
    },
    "colab_type": "code",
    "id": "AkoIPKFbJARS"
   },
   "outputs": [],
   "source": [
    "import pandas as pd"
   ]
  },
  {
   "cell_type": "code",
   "execution_count": 255,
   "metadata": {
    "colab": {
     "autoexec": {
      "startup": false,
      "wait_interval": 0
     }
    },
    "colab_type": "code",
    "id": "c6dsi09WJARV"
   },
   "outputs": [],
   "source": [
    "# For demo purposes we can look to see what our invoice looks like\n",
    "df = pd.DataFrame({'Char':chars,'Target':y_true})"
   ]
  },
  {
   "cell_type": "code",
   "execution_count": 256,
   "metadata": {
    "colab": {
     "autoexec": {
      "startup": false,
      "wait_interval": 0
     },
     "base_uri": "https://localhost:8080/",
     "height": 283,
     "output_extras": [
      {
       "item_id": 1
      }
     ]
    },
    "colab_type": "code",
    "executionInfo": {
     "elapsed": 481,
     "status": "ok",
     "timestamp": 1521103681353,
     "user": {
      "displayName": "rik",
      "photoUrl": "//lh6.googleusercontent.com/-ZGIi-vN4KMU/AAAAAAAAAAI/AAAAAAAAAFk/Ki-nNio6VVM/s50-c-k-no/photo.jpg",
      "userId": "113719912521762461555"
     },
     "user_tz": -60
    },
    "id": "agX4dRj0JARZ",
    "outputId": "44594a66-4c97-4594-bd4c-246b10c68e0e"
   },
   "outputs": [
    {
     "data": {
      "text/html": [
       "<div>\n",
       "<style scoped>\n",
       "    .dataframe tbody tr th:only-of-type {\n",
       "        vertical-align: middle;\n",
       "    }\n",
       "\n",
       "    .dataframe tbody tr th {\n",
       "        vertical-align: top;\n",
       "    }\n",
       "\n",
       "    .dataframe thead th {\n",
       "        text-align: right;\n",
       "    }\n",
       "</style>\n",
       "<table border=\"1\" class=\"dataframe\">\n",
       "  <thead>\n",
       "    <tr style=\"text-align: right;\">\n",
       "      <th></th>\n",
       "      <th>Char</th>\n",
       "      <th>Target</th>\n",
       "    </tr>\n",
       "  </thead>\n",
       "  <tbody>\n",
       "    <tr>\n",
       "      <th>883</th>\n",
       "      <td>7</td>\n",
       "      <td>5</td>\n",
       "    </tr>\n",
       "    <tr>\n",
       "      <th>884</th>\n",
       "      <td>5</td>\n",
       "      <td>5</td>\n",
       "    </tr>\n",
       "    <tr>\n",
       "      <th>885</th>\n",
       "      <td>9</td>\n",
       "      <td>5</td>\n",
       "    </tr>\n",
       "    <tr>\n",
       "      <th>886</th>\n",
       "      <td>5</td>\n",
       "      <td>5</td>\n",
       "    </tr>\n",
       "    <tr>\n",
       "      <th>887</th>\n",
       "      <td>.</td>\n",
       "      <td>5</td>\n",
       "    </tr>\n",
       "    <tr>\n",
       "      <th>888</th>\n",
       "      <td>3</td>\n",
       "      <td>5</td>\n",
       "    </tr>\n",
       "    <tr>\n",
       "      <th>889</th>\n",
       "      <td>0</td>\n",
       "      <td>5</td>\n",
       "    </tr>\n",
       "  </tbody>\n",
       "</table>\n",
       "</div>"
      ],
      "text/plain": [
       "    Char  Target\n",
       "883    7       5\n",
       "884    5       5\n",
       "885    9       5\n",
       "886    5       5\n",
       "887    .       5\n",
       "888    3       5\n",
       "889    0       5"
      ]
     },
     "execution_count": 256,
     "metadata": {},
     "output_type": "execute_result"
    }
   ],
   "source": [
    "# Show all characters belonging to the Total (field #5)\n",
    "df[df.Target == 5]"
   ]
  },
  {
   "cell_type": "code",
   "execution_count": 257,
   "metadata": {
    "colab": {
     "autoexec": {
      "startup": false,
      "wait_interval": 0
     }
    },
    "colab_type": "code",
    "id": "J0bWvclmJARg"
   },
   "outputs": [],
   "source": [
    "# Create test data for predictions with neural net\n",
    "x_test = np.array(data)"
   ]
  },
  {
   "cell_type": "code",
   "execution_count": 258,
   "metadata": {
    "colab": {
     "autoexec": {
      "startup": false,
      "wait_interval": 0
     },
     "base_uri": "https://localhost:8080/",
     "height": 54,
     "output_extras": [
      {
       "item_id": 1
      }
     ]
    },
    "colab_type": "code",
    "executionInfo": {
     "elapsed": 441,
     "status": "ok",
     "timestamp": 1521103683084,
     "user": {
      "displayName": "rik",
      "photoUrl": "//lh6.googleusercontent.com/-ZGIi-vN4KMU/AAAAAAAAAAI/AAAAAAAAAFk/Ki-nNio6VVM/s50-c-k-no/photo.jpg",
      "userId": "113719912521762461555"
     },
     "user_tz": -60
    },
    "id": "mH6fGzCkJARi",
    "outputId": "abc9e7d5-5001-4b3e-d4c9-5b46a290c5f2"
   },
   "outputs": [
    {
     "data": {
      "text/plain": [
       "(921, 41, 96)"
      ]
     },
     "execution_count": 258,
     "metadata": {},
     "output_type": "execute_result"
    }
   ],
   "source": [
    "x_test.shape"
   ]
  },
  {
   "cell_type": "markdown",
   "metadata": {
    "colab_type": "text",
    "id": "_KdrkkkYJARm"
   },
   "source": [
    "## Making predictions"
   ]
  },
  {
   "cell_type": "code",
   "execution_count": 311,
   "metadata": {
    "colab": {
     "autoexec": {
      "startup": false,
      "wait_interval": 0
     }
    },
    "colab_type": "code",
    "id": "81HmeHLdJARn"
   },
   "outputs": [
    {
     "data": {
      "text/plain": [
       "(921, 6)"
      ]
     },
     "execution_count": 311,
     "metadata": {},
     "output_type": "execute_result"
    }
   ],
   "source": [
    "# Make predictions\n",
    "y_pred = model.predict(x_test)\n",
    "y_pred.shape"
   ]
  },
  {
   "cell_type": "code",
   "execution_count": 312,
   "metadata": {},
   "outputs": [
    {
     "name": "stdout",
     "output_type": "stream",
     "text": [
      "0.262   0.260   0.018   0.000   0.048   0.411   argmax: 5    max: 0.411\n",
      "0.701   0.029   0.105   0.000   0.002   0.163   argmax: 0    max: 0.701\n",
      "0.237   0.075   0.005   0.004   0.000   0.679   argmax: 5    max: 0.679\n",
      "0.549   0.007   0.006   0.051   0.000   0.387   argmax: 0    max: 0.549\n",
      "0.503   0.010   0.009   0.212   0.006   0.260   argmax: 0    max: 0.503\n",
      "0.173   0.001   0.003   0.819   0.004   0.000   argmax: 3    max: 0.819\n",
      "0.021   0.000   0.002   0.976   0.000   0.000   argmax: 3    max: 0.976\n",
      "0.029   0.000   0.003   0.967   0.000   0.000   argmax: 3    max: 0.967\n",
      "0.159   0.000   0.144   0.697   0.001   0.000   argmax: 3    max: 0.697\n",
      "0.673   0.000   0.240   0.060   0.001   0.026   argmax: 0    max: 0.673\n",
      "0.134   0.000   0.819   0.042   0.004   0.000   argmax: 2    max: 0.819\n",
      "0.591   0.000   0.256   0.077   0.050   0.025   argmax: 0    max: 0.591\n",
      "0.317   0.000   0.048   0.623   0.010   0.002   argmax: 3    max: 0.623\n",
      "0.061   0.000   0.023   0.909   0.005   0.001   argmax: 3    max: 0.909\n",
      "0.024   0.000   0.033   0.028   0.914   0.000   argmax: 4    max: 0.914\n",
      "0.805   0.003   0.141   0.010   0.012   0.029   argmax: 0    max: 0.805\n",
      "0.644   0.134   0.008   0.053   0.000   0.160   argmax: 0    max: 0.644\n",
      "0.181   0.000   0.001   0.817   0.000   0.000   argmax: 3    max: 0.817\n",
      "0.837   0.005   0.002   0.156   0.000   0.000   argmax: 0    max: 0.837\n",
      "0.709   0.003   0.008   0.257   0.022   0.000   argmax: 0    max: 0.709\n"
     ]
    }
   ],
   "source": [
    "for p in y_pred[860:880]:\n",
    "    for q in p:\n",
    "        print(\"{:.3f}   \".format(q) , end='' )\n",
    "    print(\"argmax: {:d}    max: {:.3f}\".format(np.argmax(p), np.max(p)))"
   ]
  },
  {
   "cell_type": "code",
   "execution_count": 313,
   "metadata": {
    "colab": {
     "autoexec": {
      "startup": false,
      "wait_interval": 0
     }
    },
    "colab_type": "code",
    "id": "CZGiAph5JARp"
   },
   "outputs": [
    {
     "name": "stdout",
     "output_type": "stream",
     "text": [
      "[5 0 5 0 0 3 3 3 3 0 2 0 3 3 4 0 0 3 0 0]\n"
     ]
    }
   ],
   "source": [
    "# Get the maximum likely class\n",
    "y_pred = y_pred.argmax(axis=1)\n",
    "print(y_pred[860:880])"
   ]
  },
  {
   "cell_type": "code",
   "execution_count": 314,
   "metadata": {
    "colab": {
     "autoexec": {
      "startup": false,
      "wait_interval": 0
     }
    },
    "colab_type": "code",
    "id": "e-4IlZFkJARs"
   },
   "outputs": [],
   "source": [
    "# Show how our model predictions look like\n",
    "df['Predicted'] = y_pred\n",
    "# df['Predicted'] = y_true  # temp hack for documentation purps"
   ]
  },
  {
   "cell_type": "code",
   "execution_count": 328,
   "metadata": {},
   "outputs": [
    {
     "data": {
      "text/plain": [
       "(921,)"
      ]
     },
     "execution_count": 328,
     "metadata": {},
     "output_type": "execute_result"
    }
   ],
   "source": [
    "y_pred.shape"
   ]
  },
  {
   "cell_type": "code",
   "execution_count": 323,
   "metadata": {
    "colab": {
     "autoexec": {
      "startup": false,
      "wait_interval": 0
     },
     "base_uri": "https://localhost:8080/",
     "height": 404,
     "output_extras": [
      {
       "item_id": 1
      }
     ]
    },
    "colab_type": "code",
    "executionInfo": {
     "elapsed": 450,
     "status": "ok",
     "timestamp": 1521104186040,
     "user": {
      "displayName": "rik",
      "photoUrl": "//lh6.googleusercontent.com/-ZGIi-vN4KMU/AAAAAAAAAAI/AAAAAAAAAFk/Ki-nNio6VVM/s50-c-k-no/photo.jpg",
      "userId": "113719912521762461555"
     },
     "user_tz": -60
    },
    "id": "P06em8DgJARt",
    "outputId": "80ebc328-971d-4773-d0d5-59ce4128f7b4"
   },
   "outputs": [
    {
     "data": {
      "text/html": [
       "<div>\n",
       "<style scoped>\n",
       "    .dataframe tbody tr th:only-of-type {\n",
       "        vertical-align: middle;\n",
       "    }\n",
       "\n",
       "    .dataframe tbody tr th {\n",
       "        vertical-align: top;\n",
       "    }\n",
       "\n",
       "    .dataframe thead th {\n",
       "        text-align: right;\n",
       "    }\n",
       "</style>\n",
       "<table border=\"1\" class=\"dataframe\">\n",
       "  <thead>\n",
       "    <tr style=\"text-align: right;\">\n",
       "      <th></th>\n",
       "      <th>Char</th>\n",
       "      <th>Target</th>\n",
       "      <th>Predicted</th>\n",
       "    </tr>\n",
       "  </thead>\n",
       "  <tbody>\n",
       "    <tr>\n",
       "      <th>221</th>\n",
       "      <td>0</td>\n",
       "      <td>0</td>\n",
       "      <td>5</td>\n",
       "    </tr>\n",
       "    <tr>\n",
       "      <th>223</th>\n",
       "      <td>0</td>\n",
       "      <td>0</td>\n",
       "      <td>5</td>\n",
       "    </tr>\n",
       "    <tr>\n",
       "      <th>390</th>\n",
       "      <td>I</td>\n",
       "      <td>0</td>\n",
       "      <td>5</td>\n",
       "    </tr>\n",
       "    <tr>\n",
       "      <th>400</th>\n",
       "      <td>/</td>\n",
       "      <td>0</td>\n",
       "      <td>5</td>\n",
       "    </tr>\n",
       "    <tr>\n",
       "      <th>401</th>\n",
       "      <td>5</td>\n",
       "      <td>0</td>\n",
       "      <td>5</td>\n",
       "    </tr>\n",
       "    <tr>\n",
       "      <th>402</th>\n",
       "      <td>/</td>\n",
       "      <td>0</td>\n",
       "      <td>5</td>\n",
       "    </tr>\n",
       "    <tr>\n",
       "      <th>403</th>\n",
       "      <td>2</td>\n",
       "      <td>0</td>\n",
       "      <td>5</td>\n",
       "    </tr>\n",
       "    <tr>\n",
       "      <th>404</th>\n",
       "      <td>0</td>\n",
       "      <td>0</td>\n",
       "      <td>5</td>\n",
       "    </tr>\n",
       "    <tr>\n",
       "      <th>405</th>\n",
       "      <td>1</td>\n",
       "      <td>0</td>\n",
       "      <td>5</td>\n",
       "    </tr>\n",
       "    <tr>\n",
       "      <th>417</th>\n",
       "      <td>A</td>\n",
       "      <td>0</td>\n",
       "      <td>5</td>\n",
       "    </tr>\n",
       "    <tr>\n",
       "      <th>433</th>\n",
       "      <td>I</td>\n",
       "      <td>0</td>\n",
       "      <td>5</td>\n",
       "    </tr>\n",
       "    <tr>\n",
       "      <th>523</th>\n",
       "      <td></td>\n",
       "      <td>0</td>\n",
       "      <td>5</td>\n",
       "    </tr>\n",
       "    <tr>\n",
       "      <th>603</th>\n",
       "      <td>2</td>\n",
       "      <td>0</td>\n",
       "      <td>5</td>\n",
       "    </tr>\n",
       "    <tr>\n",
       "      <th>604</th>\n",
       "      <td>8</td>\n",
       "      <td>0</td>\n",
       "      <td>5</td>\n",
       "    </tr>\n",
       "    <tr>\n",
       "      <th>605</th>\n",
       "      <td>.</td>\n",
       "      <td>0</td>\n",
       "      <td>5</td>\n",
       "    </tr>\n",
       "    <tr>\n",
       "      <th>606</th>\n",
       "      <td>3</td>\n",
       "      <td>0</td>\n",
       "      <td>5</td>\n",
       "    </tr>\n",
       "    <tr>\n",
       "      <th>860</th>\n",
       "      <td>€</td>\n",
       "      <td>0</td>\n",
       "      <td>5</td>\n",
       "    </tr>\n",
       "    <tr>\n",
       "      <th>862</th>\n",
       "      <td>8</td>\n",
       "      <td>0</td>\n",
       "      <td>5</td>\n",
       "    </tr>\n",
       "    <tr>\n",
       "      <th>883</th>\n",
       "      <td>7</td>\n",
       "      <td>5</td>\n",
       "      <td>5</td>\n",
       "    </tr>\n",
       "    <tr>\n",
       "      <th>884</th>\n",
       "      <td>5</td>\n",
       "      <td>5</td>\n",
       "      <td>5</td>\n",
       "    </tr>\n",
       "    <tr>\n",
       "      <th>885</th>\n",
       "      <td>9</td>\n",
       "      <td>5</td>\n",
       "      <td>5</td>\n",
       "    </tr>\n",
       "    <tr>\n",
       "      <th>886</th>\n",
       "      <td>5</td>\n",
       "      <td>5</td>\n",
       "      <td>5</td>\n",
       "    </tr>\n",
       "    <tr>\n",
       "      <th>887</th>\n",
       "      <td>.</td>\n",
       "      <td>5</td>\n",
       "      <td>5</td>\n",
       "    </tr>\n",
       "    <tr>\n",
       "      <th>888</th>\n",
       "      <td>3</td>\n",
       "      <td>5</td>\n",
       "      <td>5</td>\n",
       "    </tr>\n",
       "    <tr>\n",
       "      <th>889</th>\n",
       "      <td>0</td>\n",
       "      <td>5</td>\n",
       "      <td>5</td>\n",
       "    </tr>\n",
       "  </tbody>\n",
       "</table>\n",
       "</div>"
      ],
      "text/plain": [
       "    Char  Target  Predicted\n",
       "221    0       0          5\n",
       "223    0       0          5\n",
       "390    I       0          5\n",
       "400    /       0          5\n",
       "401    5       0          5\n",
       "402    /       0          5\n",
       "403    2       0          5\n",
       "404    0       0          5\n",
       "405    1       0          5\n",
       "417    A       0          5\n",
       "433    I       0          5\n",
       "523            0          5\n",
       "603    2       0          5\n",
       "604    8       0          5\n",
       "605    .       0          5\n",
       "606    3       0          5\n",
       "860    €       0          5\n",
       "862    8       0          5\n",
       "883    7       5          5\n",
       "884    5       5          5\n",
       "885    9       5          5\n",
       "886    5       5          5\n",
       "887    .       5          5\n",
       "888    3       5          5\n",
       "889    0       5          5"
      ]
     },
     "execution_count": 323,
     "metadata": {},
     "output_type": "execute_result"
    }
   ],
   "source": [
    "# Show all chars that are predicted to belong to the TOTAL amount (field #5)\n",
    "df.loc[(df.Predicted == 5) | (df.Target == 5)]"
   ]
  },
  {
   "cell_type": "markdown",
   "metadata": {
    "colab_type": "text",
    "id": "zRYMUUrTJARy"
   },
   "source": [
    "## Obtain system outputs from predictions"
   ]
  },
  {
   "cell_type": "code",
   "execution_count": 359,
   "metadata": {
    "colab": {
     "autoexec": {
      "startup": false,
      "wait_interval": 0
     }
    },
    "colab_type": "code",
    "id": "rZHf701mJARz"
   },
   "outputs": [],
   "source": [
    "from itertools import groupby\n",
    "# Create groups by the predicted output\n",
    "# The this code will return a tuple with the format\n",
    "# (category, length, starting index)\n",
    "\n",
    "# TODO: This code is ugly and very hard to understand\n",
    "# But it works\n",
    "\n",
    "# Group by predicted category\n",
    "g = groupby(enumerate(y_pred), lambda x:x[1])\n",
    "# g = groupby(enumerate(y_true), lambda x:x[1])   # temp hack for docs\n",
    "\n",
    "# Create list of groups\n",
    "l = [(x[0], list(x[1])) for x in g]\n",
    "\n",
    "# Create list with tuples of groups\n",
    "groups = [(x[0], len(x[1]), x[1][0][0]) for x in l]"
   ]
  },
  {
   "cell_type": "code",
   "execution_count": 387,
   "metadata": {},
   "outputs": [],
   "source": [
    "z=0"
   ]
  },
  {
   "cell_type": "code",
   "execution_count": 392,
   "metadata": {
    "colab": {
     "autoexec": {
      "startup": false,
      "wait_interval": 0
     },
     "base_uri": "https://localhost:8080/",
     "height": 203,
     "output_extras": [
      {
       "item_id": 1
      }
     ]
    },
    "colab_type": "code",
    "executionInfo": {
     "elapsed": 447,
     "status": "ok",
     "timestamp": 1521104189621,
     "user": {
      "displayName": "rik",
      "photoUrl": "//lh6.googleusercontent.com/-ZGIi-vN4KMU/AAAAAAAAAAI/AAAAAAAAAFk/Ki-nNio6VVM/s50-c-k-no/photo.jpg",
      "userId": "113719912521762461555"
     },
     "user_tz": -60
    },
    "id": "M40M3Y8eJAR2",
    "outputId": "712cffc4-0d10-48c0-8fb0-9eec705c988c"
   },
   "outputs": [
    {
     "name": "stdout",
     "output_type": "stream",
     "text": [
      "[(0, 5, 0), (1, 3, 5), (0, 3, 8), (1, 18, 11), (0, 1, 29)]\n",
      "(1, 5, 30)\n"
     ]
    }
   ],
   "source": [
    "# Show grouping (hit CTRL-Enter multiple times)\n",
    "\n",
    "# each tuple contains (category, length, index) of a substring of an invoice\n",
    "# each \"group\" represents a piece of the invoice that is predicted to be of the same class [0-5]\n",
    "z += 1\n",
    "print(groups[:z])\n",
    "print(groups[z])\n"
   ]
  },
  {
   "cell_type": "code",
   "execution_count": 326,
   "metadata": {
    "colab": {
     "autoexec": {
      "startup": false,
      "wait_interval": 0
     }
    },
    "colab_type": "code",
    "id": "_J6W-RV2JAR4"
   },
   "outputs": [],
   "source": [
    "'''\n",
    "We only want to consider sequences of predictions of the same type \n",
    "that have a minimum length. This way we remove the noise\n",
    "But we also might remove some good predictions\n",
    "\n",
    "The min length is set to 5 here, certainly a value to experiment with\n",
    "'''\n",
    "candidates = []\n",
    "# Loop over all groups\n",
    "for group in groups:\n",
    "    \n",
    "    # Unpack group\n",
    "    category, length, index = group\n",
    "    \n",
    "    # Ignore the ignore category and only consider category sequences longer than 5\n",
    "    if category != 0 and length > 5:  # was 5\n",
    "        # Create text\n",
    "        candidate_text = ''.join(chars[index:index+length])\n",
    "        # Remove line breaks, this is just one way to prettify outputs!\n",
    "        candidate_text = candidate_text.replace('\\n','')\n",
    "        candidates.append((candidate_text,category))"
   ]
  },
  {
   "cell_type": "code",
   "execution_count": 327,
   "metadata": {
    "colab": {
     "autoexec": {
      "startup": false,
      "wait_interval": 0
     },
     "base_uri": "https://localhost:8080/",
     "height": 137,
     "output_extras": [
      {
       "item_id": 1
      }
     ]
    },
    "colab_type": "code",
    "executionInfo": {
     "elapsed": 436,
     "status": "ok",
     "timestamp": 1521104191453,
     "user": {
      "displayName": "rik",
      "photoUrl": "//lh6.googleusercontent.com/-ZGIi-vN4KMU/AAAAAAAAAAI/AAAAAAAAAFk/Ki-nNio6VVM/s50-c-k-no/photo.jpg",
      "userId": "113719912521762461555"
     },
     "user_tz": -60
    },
    "id": "q92fYU5HJAR7",
    "outputId": "9487797b-84da-4568-94ec-193711da59d4"
   },
   "outputs": [
    {
     "data": {
      "text/plain": [
       "[('n:ORTEC Finance ', 1),\n",
       " ('L International Hol', 1),\n",
       " ('r24421148', 2),\n",
       " ('BTW nr', 3),\n",
       " ('NL35RABO0386025669', 3),\n",
       " ('/5/201', 5),\n",
       " ('7595.30', 5)]"
      ]
     },
     "execution_count": 327,
     "metadata": {},
     "output_type": "execute_result"
    }
   ],
   "source": [
    "# Show predictions\n",
    "\n",
    "'''\n",
    "Ignore:           0\n",
    "Sender Name:      1 \n",
    "Sender KVK:       2 \n",
    "Sender IBAN:      3 \n",
    "Invoice Reference:4\n",
    "Total:            5\n",
    "'''\n",
    "\n",
    "sorted(candidates, key=lambda tup: tup[1])"
   ]
  },
  {
   "cell_type": "code",
   "execution_count": 0,
   "metadata": {
    "colab": {
     "autoexec": {
      "startup": false,
      "wait_interval": 0
     }
    },
    "colab_type": "code",
    "id": "ru8U0J-BJASA"
   },
   "outputs": [],
   "source": []
  }
 ],
 "metadata": {
  "colab": {
   "collapsed_sections": [],
   "default_view": {},
   "name": "Jannes_Baseline_Invoices_ToFromDisk.ipynb",
   "provenance": [
    {
     "file_id": "1wjtiXpxRkuN5V57GiK_RSPxy84cFbERO",
     "timestamp": 1520877467293
    }
   ],
   "version": "0.3.2",
   "views": {}
  },
  "kernelspec": {
   "display_name": "Python 3",
   "language": "python",
   "name": "python3"
  },
  "language_info": {
   "codemirror_mode": {
    "name": "ipython",
    "version": 3
   },
   "file_extension": ".py",
   "mimetype": "text/x-python",
   "name": "python",
   "nbconvert_exporter": "python",
   "pygments_lexer": "ipython3",
   "version": "3.6.4"
  }
 },
 "nbformat": 4,
 "nbformat_minor": 1
}
